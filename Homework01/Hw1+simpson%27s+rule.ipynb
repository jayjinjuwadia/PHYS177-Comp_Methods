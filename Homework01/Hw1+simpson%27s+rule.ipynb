{
 "cells": [
  {
   "cell_type": "code",
   "execution_count": 29,
   "metadata": {
    "collapsed": true
   },
   "outputs": [],
   "source": [
    "def Integrate(f,h):\n",
    "    a = 0\n",
    "    b = 1\n",
    "    g=0\n",
    "    s=0\n",
    "    r = int((b-a)/h)\n",
    "    for i in range(1,r,2):\n",
    "        g+=4*f(a+i*h)\n",
    "    for i in range(2,r,2):\n",
    "        s+=2*f(a+i*h)\n",
    "    \n",
    "    return (1/3)*h*(f(a)+f(b)+s+g)\n",
    "\n",
    "def test_function(x):\n",
    "    return 3*(10**(-10))*(x**2)"
   ]
  },
  {
   "cell_type": "code",
   "execution_count": 22,
   "metadata": {},
   "outputs": [
    {
     "data": {
      "text/plain": [
       "1.0000000000000002e-10"
      ]
     },
     "execution_count": 22,
     "metadata": {},
     "output_type": "execute_result"
    }
   ],
   "source": [
    "Integrate(test_function,0.1)"
   ]
  },
  {
   "cell_type": "code",
   "execution_count": 30,
   "metadata": {
    "collapsed": true
   },
   "outputs": [],
   "source": [
    "def error(h):\n",
    "    return 10**-10 - Integrate(test_function,h)"
   ]
  },
  {
   "cell_type": "code",
   "execution_count": 47,
   "metadata": {},
   "outputs": [
    {
     "data": {
      "text/plain": [
       "-7.754818242684634e-25"
      ]
     },
     "execution_count": 47,
     "metadata": {},
     "output_type": "execute_result"
    }
   ],
   "source": [
    "error(10**-7)"
   ]
  },
  {
   "cell_type": "code",
   "execution_count": 35,
   "metadata": {
    "collapsed": true
   },
   "outputs": [],
   "source": [
    "deltas = []\n",
    "for i in range(7):\n",
    "    deltas.append(10**-(i+1))"
   ]
  },
  {
   "cell_type": "code",
   "execution_count": 50,
   "metadata": {},
   "outputs": [
    {
     "data": {
      "text/plain": [
       "[-1.2924697071141057e-26,\n",
       " 1.2924697071141057e-26,\n",
       " 5.169878828456423e-26,\n",
       " 7.754818242684634e-26,\n",
       " 3.999920000424594e-15,\n",
       " -6.591595506281939e-25,\n",
       " -7.754818242684634e-25]"
      ]
     },
     "execution_count": 50,
     "metadata": {},
     "output_type": "execute_result"
    }
   ],
   "source": [
    "list(map(error,deltas))\n"
   ]
  }
 ],
 "metadata": {
  "kernelspec": {
   "display_name": "Python 3",
   "language": "python",
   "name": "python3"
  },
  "language_info": {
   "codemirror_mode": {
    "name": "ipython",
    "version": 3
   },
   "file_extension": ".py",
   "mimetype": "text/x-python",
   "name": "python",
   "nbconvert_exporter": "python",
   "pygments_lexer": "ipython3",
   "version": "3.6.1"
  }
 },
 "nbformat": 4,
 "nbformat_minor": 2
}
